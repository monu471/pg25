{
 "cells": [
  {
   "cell_type": "code",
   "execution_count": null,
   "id": "ae3e72ca",
   "metadata": {},
   "outputs": [],
   "source": [
    "# What is the difference between enclosing a list comprehension in square brackets and\n",
    "# parentheses?\n",
    "for list comprehension if enclose with [ ] = it gives list of items\n",
    "() = use of this gives the genrator object"
   ]
  },
  {
   "cell_type": "code",
   "execution_count": null,
   "id": "3ed73030",
   "metadata": {},
   "outputs": [],
   "source": [
    "# What is the relationship between generators and iterators?\n",
    "to create iterator we use iter() function while in genrator we use function along with yield"
   ]
  },
  {
   "cell_type": "code",
   "execution_count": null,
   "id": "b6319a7c",
   "metadata": {},
   "outputs": [],
   "source": [
    "# 3) What are the signs that a function is a generator function?\n",
    "it function contain at least one yield statement then it behave like as genrator function"
   ]
  },
  {
   "cell_type": "code",
   "execution_count": null,
   "id": "c03877a1",
   "metadata": {},
   "outputs": [],
   "source": [
    "# 4) What is the purpose of a yield statement?\n",
    "yield statement store the outcome of function and gives in the form of iterables"
   ]
  },
  {
   "cell_type": "code",
   "execution_count": null,
   "id": "6a909f67",
   "metadata": {},
   "outputs": [],
   "source": [
    "# 5) What is the relationship between map calls and list comprehensions? Make a comparison and\n",
    "# contrast between the two.\n",
    "List comprehension is more concise and easier to read as compared to map.\n",
    "List comprehension allows filtering. In map, we have no such facility. For example, to print all even numbers in range of 100, we can write [n for n in range(100) if n%2 == 0]. There is no alternate for it in map\n",
    "List comprehension are used when a list of results is required as map only returns a map object and does not return any list.\n",
    "List comprehension is faster than map when we need to evaluate expressions that are too long or complicated to express\n",
    "Map is faster in case of calling an already defined function (as no lambda is required)."
   ]
  }
 ],
 "metadata": {
  "kernelspec": {
   "display_name": "Python 3 (ipykernel)",
   "language": "python",
   "name": "python3"
  },
  "language_info": {
   "codemirror_mode": {
    "name": "ipython",
    "version": 3
   },
   "file_extension": ".py",
   "mimetype": "text/x-python",
   "name": "python",
   "nbconvert_exporter": "python",
   "pygments_lexer": "ipython3",
   "version": "3.9.12"
  }
 },
 "nbformat": 4,
 "nbformat_minor": 5
}
